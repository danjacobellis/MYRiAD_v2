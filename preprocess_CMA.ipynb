{
 "cells": [
  {
   "cell_type": "code",
   "execution_count": 1,
   "id": "b252eec5-0080-4c43-be84-85e3617b8535",
   "metadata": {},
   "outputs": [],
   "source": [
    "from datasets import load_dataset, Dataset, Features, Array2D\n",
    "import glob\n",
    "import os\n",
    "import torch\n",
    "import torchaudio"
   ]
  },
  {
   "cell_type": "code",
   "execution_count": 2,
   "id": "a846006f",
   "metadata": {},
   "outputs": [],
   "source": [
    "from datasets import load_dataset, Dataset\n",
    "import glob\n",
    "import os\n",
    "import torch\n",
    "import torchaudio"
   ]
  },
  {
   "cell_type": "code",
   "execution_count": 3,
   "id": "49d07d18-cf8e-49ee-9b4f-9678d406bc2a",
   "metadata": {},
   "outputs": [],
   "source": [
    "sources = glob.glob(\"MYRiAD_V2/audio/SRC/*.wav\")\n",
    "cocktail_party = [f\"CP{i}.wav\" for i in range(6)];\n",
    "source_list = [suffix[-6:] for suffix in sources] + cocktail_party \n",
    "inner = [f\"CMA10_{a}_\" for a in [0,90,180,-90]]\n",
    "outer = [f\"CMA20_{a}_\" for a in [0,45,90,135,180,-135,-90,-45]]\n",
    "channel_list = inner + outer\n",
    "ref_channel = channel_list[0]"
   ]
  },
  {
   "cell_type": "code",
   "execution_count": 4,
   "id": "6c25fc26-5b93-4c4c-ab78-1e21ae3aad32",
   "metadata": {},
   "outputs": [],
   "source": [
    "audio = []\n",
    "\n",
    "for source in source_list:\n",
    "    query = ref_channel+source\n",
    "    prefix_list = glob.glob(\"MYRiAD_V2/audio/*/*/*/\"+query)\n",
    "    prefix_list = [match[:-len(query)] for match in prefix_list]\n",
    "    for prefix in prefix_list:\n",
    "        x = [];\n",
    "        try:\n",
    "            for channel in channel_list:\n",
    "                filename = prefix + channel + source\n",
    "                x.append(torchaudio.load(filename)[0][0])\n",
    "            x = torch.stack(x)\n",
    "            audio.append(x)\n",
    "        except:\n",
    "            pass"
   ]
  },
  {
   "cell_type": "code",
   "execution_count": 5,
   "id": "fdc520a3-bf47-4fdb-8242-f6baf4dd6025",
   "metadata": {},
   "outputs": [],
   "source": [
    "dict = {f\"channel_{i}\": [recording[i] for recording in audio] for i in range(12)}\n",
    "dataset = Dataset.from_dict(dict)\n",
    "dataset = dataset.with_format(\"torch\")"
   ]
  },
  {
   "cell_type": "code",
   "execution_count": null,
   "id": "c6fa7241-e936-4818-b2e0-f506ae09b136",
   "metadata": {},
   "outputs": [
    {
     "data": {
      "application/vnd.jupyter.widget-view+json": {
       "model_id": "9cbef00369cb4ff990ce1af5542ac960",
       "version_major": 2,
       "version_minor": 0
      },
      "text/plain": [
       "Pushing dataset shards to the dataset hub:   0%|          | 0/34 [00:00<?, ?it/s]"
      ]
     },
     "metadata": {},
     "output_type": "display_data"
    },
    {
     "data": {
      "application/vnd.jupyter.widget-view+json": {
       "model_id": "5aebe84a474543ac89b575d3cb514e28",
       "version_major": 2,
       "version_minor": 0
      },
      "text/plain": [
       "Creating parquet from Arrow format:   0%|          | 0/1 [00:00<?, ?ba/s]"
      ]
     },
     "metadata": {},
     "output_type": "display_data"
    },
    {
     "data": {
      "application/vnd.jupyter.widget-view+json": {
       "model_id": "d7a134f5a5ad424e90ea345e683dda71",
       "version_major": 2,
       "version_minor": 0
      },
      "text/plain": [
       "Creating parquet from Arrow format:   0%|          | 0/1 [00:00<?, ?ba/s]"
      ]
     },
     "metadata": {},
     "output_type": "display_data"
    },
    {
     "data": {
      "application/vnd.jupyter.widget-view+json": {
       "model_id": "9c7e0e58c9d941df880892ce6064e748",
       "version_major": 2,
       "version_minor": 0
      },
      "text/plain": [
       "Creating parquet from Arrow format:   0%|          | 0/1 [00:00<?, ?ba/s]"
      ]
     },
     "metadata": {},
     "output_type": "display_data"
    },
    {
     "data": {
      "application/vnd.jupyter.widget-view+json": {
       "model_id": "af70121f5f9847e9a2d63c5436c1f4b3",
       "version_major": 2,
       "version_minor": 0
      },
      "text/plain": [
       "Creating parquet from Arrow format:   0%|          | 0/1 [00:00<?, ?ba/s]"
      ]
     },
     "metadata": {},
     "output_type": "display_data"
    },
    {
     "data": {
      "application/vnd.jupyter.widget-view+json": {
       "model_id": "ffab7722a129490fb780a869a4346999",
       "version_major": 2,
       "version_minor": 0
      },
      "text/plain": [
       "Creating parquet from Arrow format:   0%|          | 0/1 [00:00<?, ?ba/s]"
      ]
     },
     "metadata": {},
     "output_type": "display_data"
    },
    {
     "data": {
      "application/vnd.jupyter.widget-view+json": {
       "model_id": "8a7d42b3250f405ab9e0fd3dd0d44419",
       "version_major": 2,
       "version_minor": 0
      },
      "text/plain": [
       "Creating parquet from Arrow format:   0%|          | 0/1 [00:00<?, ?ba/s]"
      ]
     },
     "metadata": {},
     "output_type": "display_data"
    },
    {
     "data": {
      "application/vnd.jupyter.widget-view+json": {
       "model_id": "d06152b77b9142a79ad53130336efc9e",
       "version_major": 2,
       "version_minor": 0
      },
      "text/plain": [
       "Creating parquet from Arrow format:   0%|          | 0/1 [00:00<?, ?ba/s]"
      ]
     },
     "metadata": {},
     "output_type": "display_data"
    },
    {
     "data": {
      "application/vnd.jupyter.widget-view+json": {
       "model_id": "357d44d9121f43148b3ca37c692d7bb6",
       "version_major": 2,
       "version_minor": 0
      },
      "text/plain": [
       "Creating parquet from Arrow format:   0%|          | 0/1 [00:00<?, ?ba/s]"
      ]
     },
     "metadata": {},
     "output_type": "display_data"
    }
   ],
   "source": [
    "dataset.push_to_hub(\"danjacobellis/CMA12\")"
   ]
  }
 ],
 "metadata": {
  "kernelspec": {
   "display_name": "Python 3 (ipykernel)",
   "language": "python",
   "name": "python3"
  },
  "language_info": {
   "codemirror_mode": {
    "name": "ipython",
    "version": 3
   },
   "file_extension": ".py",
   "mimetype": "text/x-python",
   "name": "python",
   "nbconvert_exporter": "python",
   "pygments_lexer": "ipython3",
   "version": "3.10.12"
  }
 },
 "nbformat": 4,
 "nbformat_minor": 5
}

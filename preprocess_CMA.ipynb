{
 "cells": [
  {
   "cell_type": "code",
   "execution_count": 1,
   "id": "b252eec5-0080-4c43-be84-85e3617b8535",
   "metadata": {},
   "outputs": [],
   "source": [
    "from datasets import load_dataset\n",
    "import glob\n",
    "import os\n",
    "import torch\n",
    "import torchaudio"
   ]
  },
  {
   "cell_type": "code",
   "execution_count": 2,
   "id": "49d07d18-cf8e-49ee-9b4f-9678d406bc2a",
   "metadata": {},
   "outputs": [],
   "source": [
    "sources = glob.glob(\"MYRiAD_V2/audio/SRC/*.wav\")\n",
    "cocktail_party = [f\"CP{i}.wav\" for i in range(6)];\n",
    "source_list = [suffix[-6:] for suffix in sources] + cocktail_party \n",
    "inner = [f\"CMA10_{a}_\" for a in [0,90,180,-90]]\n",
    "outer = [f\"CMA20_{a}_\" for a in [0,45,90,135,180,-135,-90,-45]]\n",
    "channel_list = inner + outer\n",
    "ref_channel = channel_list[0]"
   ]
  },
  {
   "cell_type": "code",
   "execution_count": 3,
   "id": "6c25fc26-5b93-4c4c-ab78-1e21ae3aad32",
   "metadata": {},
   "outputs": [],
   "source": [
    "if not os.path.exists(\"CMA12\"):\n",
    "    os.makedirs(\"CMA12\")\n",
    "\n",
    "for source in source_list:\n",
    "    query = ref_channel+source\n",
    "    prefix_list = glob.glob(\"MYRiAD_V2/audio/*/*/*/\"+query)\n",
    "    prefix_list = [match[:-len(query)] for match in prefix_list]\n",
    "    for prefix in prefix_list:\n",
    "        x = [];\n",
    "        try:\n",
    "            for channel in channel_list:\n",
    "                filename = prefix + channel + source\n",
    "                x.append(torchaudio.load(filename)[0][0])\n",
    "            x = torch.stack(x)\n",
    "            new_file = \"CMA12/\"+filename[16:].replace(\"/\", \"_\")\n",
    "            torchaudio.save(new_file,x,44100)\n",
    "        except:\n",
    "            pass"
   ]
  },
  {
   "cell_type": "code",
   "execution_count": 5,
   "id": "c6fa7241-e936-4818-b2e0-f506ae09b136",
   "metadata": {},
   "outputs": [
    {
     "data": {
      "application/vnd.jupyter.widget-view+json": {
       "model_id": "8f1393a72836447f9b04d4aef187ccc3",
       "version_major": 2,
       "version_minor": 0
      },
      "text/plain": [
       "Resolving data files:   0%|          | 0/149 [00:00<?, ?it/s]"
      ]
     },
     "metadata": {},
     "output_type": "display_data"
    },
    {
     "data": {
      "application/vnd.jupyter.widget-view+json": {
       "model_id": "8c145f83ddad45b49fe05ea7efe101bd",
       "version_major": 2,
       "version_minor": 0
      },
      "text/plain": [
       "Downloading data files:   0%|          | 0/149 [00:00<?, ?it/s]"
      ]
     },
     "metadata": {},
     "output_type": "display_data"
    },
    {
     "data": {
      "application/vnd.jupyter.widget-view+json": {
       "model_id": "a4588f8e2d5d446396b147d9bfe485b9",
       "version_major": 2,
       "version_minor": 0
      },
      "text/plain": [
       "Downloading data files: 0it [00:00, ?it/s]"
      ]
     },
     "metadata": {},
     "output_type": "display_data"
    },
    {
     "data": {
      "application/vnd.jupyter.widget-view+json": {
       "model_id": "de5ef0edde844fc9be5bf58394ee44dd",
       "version_major": 2,
       "version_minor": 0
      },
      "text/plain": [
       "Extracting data files: 0it [00:00, ?it/s]"
      ]
     },
     "metadata": {},
     "output_type": "display_data"
    },
    {
     "data": {
      "application/vnd.jupyter.widget-view+json": {
       "model_id": "db8f152d719b4033b28fa25af4a6bd69",
       "version_major": 2,
       "version_minor": 0
      },
      "text/plain": [
       "Generating train split: 0 examples [00:00, ? examples/s]"
      ]
     },
     "metadata": {},
     "output_type": "display_data"
    }
   ],
   "source": [
    "dataset = load_dataset(\"audiofolder\", data_dir=\"CMA12\")"
   ]
  },
  {
   "cell_type": "code",
   "execution_count": null,
   "id": "139595e3-889e-4102-a78f-aa878ef1b6a7",
   "metadata": {},
   "outputs": [
    {
     "data": {
      "application/vnd.jupyter.widget-view+json": {
       "model_id": "a70204a8eab24bf69f5eefe3addc7cd6",
       "version_major": 2,
       "version_minor": 0
      },
      "text/plain": [
       "Map:   0%|          | 0/1 [00:00<?, ? examples/s]"
      ]
     },
     "metadata": {},
     "output_type": "display_data"
    },
    {
     "data": {
      "application/vnd.jupyter.widget-view+json": {
       "model_id": "dcbae35a81a7472eb35b24495a700686",
       "version_major": 2,
       "version_minor": 0
      },
      "text/plain": [
       "Pushing dataset shards to the dataset hub:   0%|          | 0/168 [00:00<?, ?it/s]"
      ]
     },
     "metadata": {},
     "output_type": "display_data"
    },
    {
     "data": {
      "application/vnd.jupyter.widget-view+json": {
       "model_id": "5403ec5c74b5437d86cf53c7942c439d",
       "version_major": 2,
       "version_minor": 0
      },
      "text/plain": [
       "Creating parquet from Arrow format:   0%|          | 0/1 [00:00<?, ?ba/s]"
      ]
     },
     "metadata": {},
     "output_type": "display_data"
    }
   ],
   "source": [
    "dataset.push_to_hub(\"danjacobellis/CMA12\",max_shard_size=\"100MB\")"
   ]
  }
 ],
 "metadata": {
  "kernelspec": {
   "display_name": "Python 3 (ipykernel)",
   "language": "python",
   "name": "python3"
  },
  "language_info": {
   "codemirror_mode": {
    "name": "ipython",
    "version": 3
   },
   "file_extension": ".py",
   "mimetype": "text/x-python",
   "name": "python",
   "nbconvert_exporter": "python",
   "pygments_lexer": "ipython3",
   "version": "3.10.12"
  }
 },
 "nbformat": 4,
 "nbformat_minor": 5
}

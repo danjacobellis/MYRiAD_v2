{
 "cells": [
  {
   "cell_type": "code",
   "execution_count": 4,
   "id": "b252eec5-0080-4c43-be84-85e3617b8535",
   "metadata": {},
   "outputs": [],
   "source": [
    "from datasets import load_dataset, Dataset, Audio\n",
    "import glob\n",
    "import torch\n",
    "import torchaudio"
   ]
  },
  {
   "cell_type": "code",
   "execution_count": 5,
   "id": "49d07d18-cf8e-49ee-9b4f-9678d406bc2a",
   "metadata": {},
   "outputs": [],
   "source": [
    "sources = glob.glob(\"MYRiAD_V2/audio/SRC/*.wav\")\n",
    "cocktail_party = [f\"CP{i}.wav\" for i in range(6)];\n",
    "source_list = [suffix[-6:] for suffix in sources] + cocktail_party \n",
    "inner = [f\"CMA10_{a}_\" for a in [0,90,180,-90]]\n",
    "outer = [f\"CMA20_{a}_\" for a in [0,45,90,135,180,-135,-90,-45]]\n",
    "channel_list = inner + outer\n",
    "ref_channel = channel_list[0]"
   ]
  },
  {
   "cell_type": "code",
   "execution_count": 6,
   "id": "6c25fc26-5b93-4c4c-ab78-1e21ae3aad32",
   "metadata": {},
   "outputs": [],
   "source": [
    "audio = []\n",
    "for source in source_list:\n",
    "    query = ref_channel+source\n",
    "    prefix_list = glob.glob(\"MYRiAD_V2/audio/*/*/*/\"+query)\n",
    "    prefix_list = [match[:-len(query)] for match in prefix_list]\n",
    "    for prefix in prefix_list:\n",
    "        x = [];\n",
    "        try:\n",
    "            for channel in channel_list:\n",
    "                filename = prefix + channel + source\n",
    "                x.append(torchaudio.load(filename)[0][0])\n",
    "            x = torch.stack(x)\n",
    "            x = 352.0*x\n",
    "            x = x.to(torch.bfloat16)\n",
    "            audio.append(x)\n",
    "        except:\n",
    "            pass"
   ]
  },
  {
   "cell_type": "code",
   "execution_count": null,
   "id": "73e3bf41-084a-415d-9899-d7f5e56fd141",
   "metadata": {},
   "outputs": [],
   "source": [
    "audio = {\"audio\": audio};\n",
    "audio_dataset = Dataset.from_dict(audio)"
   ]
  },
  {
   "cell_type": "code",
   "execution_count": null,
   "id": "03fd8f03-08a3-4bdf-a421-bd84079ce097",
   "metadata": {},
   "outputs": [],
   "source": [
    "audio_dataset.cast_column(\"audio\", Audio())"
   ]
  }
 ],
 "metadata": {
  "kernelspec": {
   "display_name": "Python 3 (ipykernel)",
   "language": "python",
   "name": "python3"
  },
  "language_info": {
   "codemirror_mode": {
    "name": "ipython",
    "version": 3
   },
   "file_extension": ".py",
   "mimetype": "text/x-python",
   "name": "python",
   "nbconvert_exporter": "python",
   "pygments_lexer": "ipython3",
   "version": "3.10.12"
  }
 },
 "nbformat": 4,
 "nbformat_minor": 5
}
